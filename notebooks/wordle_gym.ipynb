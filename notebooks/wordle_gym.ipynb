{
 "cells": [
  {
   "cell_type": "markdown",
   "metadata": {},
   "source": [
    "# Playing with the Wordle Gym\n",
    "\n",
    "In this notebook, I'm just gonna mess around with the Wordle Gym to get a feel of\n",
    "the data available."
   ]
  },
  {
   "cell_type": "code",
   "execution_count": 9,
   "metadata": {},
   "outputs": [
    {
     "name": "stdout",
     "output_type": "stream",
     "text": [
      "Processing /Users/jonathanmdaniel/Documents/Code/Clemson/watt-wordle-project/lib/gym-wordle\n",
      "  Preparing metadata (setup.py) ... \u001b[?25ldone\n",
      "\u001b[?25hRequirement already satisfied: gym==0.17.2 in /Users/jonathanmdaniel/miniconda3/envs/watt_wordle_env/lib/python3.9/site-packages (from gym-wordle==0.0.2) (0.17.2)\n",
      "Requirement already satisfied: numpy>=1.19.2 in /Users/jonathanmdaniel/miniconda3/envs/watt_wordle_env/lib/python3.9/site-packages (from gym-wordle==0.0.2) (1.23.3)\n",
      "Requirement already satisfied: colorama>=0.4.4 in /Users/jonathanmdaniel/miniconda3/envs/watt_wordle_env/lib/python3.9/site-packages (from gym-wordle==0.0.2) (0.4.5)\n",
      "Requirement already satisfied: pyglet<=1.5.0,>=1.4.0 in /Users/jonathanmdaniel/miniconda3/envs/watt_wordle_env/lib/python3.9/site-packages (from gym==0.17.2->gym-wordle==0.0.2) (1.5.0)\n",
      "Requirement already satisfied: cloudpickle<1.4.0,>=1.2.0 in /Users/jonathanmdaniel/miniconda3/envs/watt_wordle_env/lib/python3.9/site-packages (from gym==0.17.2->gym-wordle==0.0.2) (1.3.0)\n",
      "Requirement already satisfied: scipy in /Users/jonathanmdaniel/miniconda3/envs/watt_wordle_env/lib/python3.9/site-packages (from gym==0.17.2->gym-wordle==0.0.2) (1.9.1)\n",
      "Requirement already satisfied: future in /Users/jonathanmdaniel/miniconda3/envs/watt_wordle_env/lib/python3.9/site-packages (from pyglet<=1.5.0,>=1.4.0->gym==0.17.2->gym-wordle==0.0.2) (0.18.2)\n",
      "Building wheels for collected packages: gym-wordle\n",
      "  Building wheel for gym-wordle (setup.py) ... \u001b[?25ldone\n",
      "\u001b[?25h  Created wheel for gym-wordle: filename=gym_wordle-0.0.2-py3-none-any.whl size=43955 sha256=717bc720494040225cb45bc77463f0956e1577138e12c4cb00d097e3a77cb215\n",
      "  Stored in directory: /Users/jonathanmdaniel/Library/Caches/pip/wheels/04/2c/e9/d38025bc34c65410dbed2128035aca2ef6df06f415e71c5875\n",
      "Successfully built gym-wordle\n",
      "Installing collected packages: gym-wordle\n",
      "  Attempting uninstall: gym-wordle\n",
      "    Found existing installation: gym-wordle 0.0.2\n",
      "    Uninstalling gym-wordle-0.0.2:\n",
      "      Successfully uninstalled gym-wordle-0.0.2\n",
      "Successfully installed gym-wordle-0.0.2\n"
     ]
    }
   ],
   "source": [
    "!cd ../lib/gym-wordle && pip install .\n",
    "\n",
    "import gym\n",
    "import gym\n",
    "import gym_wordle\n",
    "from gym_wordle.exceptions import InvalidWordException"
   ]
  },
  {
   "cell_type": "code",
   "execution_count": 14,
   "metadata": {},
   "outputs": [
    {
     "name": "stdout",
     "output_type": "stream",
     "text": [
      "MultiDiscrete([26 26 26 26 26])\n"
     ]
    }
   ],
   "source": [
    "env = gym.make('Wordle-v0')\n",
    "\n",
    "obs = env.reset()\n",
    "done = False\n",
    "obs, reward, done, state = env.step([0, 15, 15, 11, 4])\n",
    "\n",
    "\n",
    "print(obs)\n",
    "print(reward)\n",
    "print(done)\n"
   ]
  }
 ],
 "metadata": {
  "kernelspec": {
   "display_name": "Python 3.9.13 ('watt_wordle_env')",
   "language": "python",
   "name": "python3"
  },
  "language_info": {
   "codemirror_mode": {
    "name": "ipython",
    "version": 3
   },
   "file_extension": ".py",
   "mimetype": "text/x-python",
   "name": "python",
   "nbconvert_exporter": "python",
   "pygments_lexer": "ipython3",
   "version": "3.9.13"
  },
  "orig_nbformat": 4,
  "vscode": {
   "interpreter": {
    "hash": "4fb703dffe9f9b76b9cf940ac24480bc114f740a240764f76a066ac56bd11c8d"
   }
  }
 },
 "nbformat": 4,
 "nbformat_minor": 2
}
