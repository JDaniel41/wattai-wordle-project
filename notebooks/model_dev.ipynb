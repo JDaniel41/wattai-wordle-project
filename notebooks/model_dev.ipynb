{
 "cells": [
  {
   "cell_type": "markdown",
   "metadata": {},
   "source": [
    "# Setting up the Model!"
   ]
  },
  {
   "cell_type": "markdown",
   "metadata": {},
   "source": [
    "## Imports"
   ]
  },
  {
   "cell_type": "code",
   "execution_count": 63,
   "metadata": {},
   "outputs": [],
   "source": [
    "import torch\n",
    "import gym\n",
    "import gym_wordle\n",
    "from gym_wordle.exceptions import InvalidWordException\n",
    "import numpy as np\n",
    "\n",
    "from gym_wordle.envs.wordle_env import WORDS, encodeToStr, strToEncode"
   ]
  },
  {
   "cell_type": "markdown",
   "metadata": {},
   "source": [
    "## What's the Goal?\n",
    "\n",
    "The goal is to develop a neural network that would take the alphabet, along with\n",
    "the current board state (a 6x5 grid) and output the best move to make. First, I will\n",
    "go ahead and create a dataset of games that I can use to train the model."
   ]
  },
  {
   "cell_type": "code",
   "execution_count": 97,
   "metadata": {},
   "outputs": [],
   "source": [
    "from typing import Tuple, List\n",
    "\n",
    "class WordleGame():\n",
    "    \"\"\"\n",
    "    A wrapper class for the game. We will use this to make guesses by integer and\n",
    "    it will make it easier to integrate the gym environment with our model.\n",
    "    \"\"\"\n",
    "    def __init__(self):\n",
    "        self.env = gym.make('Wordle-v0')\n",
    "        self.reset_game()\n",
    "\n",
    "    def reset_game(self):\n",
    "        self.env.reset()\n",
    "        self.num_turns_left = 6\n",
    "        self.word_representation = [-1, -1, -1, -1, -1]\n",
    "\n",
    "    def tokenize_word(self, guess, guess_result):\n",
    "        \"\"\"\n",
    "        Update the tokenization with the most recent guess and return the tokenization.\n",
    "        \"\"\"\n",
    "        old_tokenization = self.word_representation\n",
    "        new_tokenization = []\n",
    "        for old_symbol, new_symbol, result in zip(old_tokenization, guess, guess_result):\n",
    "            if result == 2:\n",
    "                new_tokenization.append(new_symbol)\n",
    "            else:\n",
    "                new_tokenization.append(old_symbol)\n",
    "        self.word_representation = new_tokenization\n",
    "        return new_tokenization\n",
    "\n",
    "    def encode_alphabet(self, alphabet_state):\n",
    "        \"\"\"\n",
    "        Change the encoding of the alphabet to look like\n",
    "\n",
    "        -1 = Not Guessed Yet\n",
    "        0 = Incorrect Guess. This is not in the word\n",
    "        1 = It does appear in the word somewher.\n",
    "        \"\"\"\n",
    "        encoded_alphabet = []\n",
    "        for letter in alphabet_state:\n",
    "            if letter == -1 or letter == 0:\n",
    "                encoded_alphabet.append(letter)\n",
    "            else:\n",
    "                encoded_alphabet.append(1)\n",
    "        return encoded_alphabet\n",
    "    \n",
    "\n",
    "    def get_current_state(self):\n",
    "        \"\"\"\n",
    "        Return the current state of the game.\n",
    "        \"\"\"\n",
    "        return self.encode_alphabet(self.env._get_obs()['alphabet']), self.word_representation, self.num_turns_left\n",
    "\n",
    "\n",
    "    def make_guess(self, word_num: int, debug_mode: bool = False) -> Tuple[List[int], int, int]:\n",
    "        \"\"\"\n",
    "        Make a guess by word number. Updates the state internallly.\n",
    "\n",
    "        :param word_num: The word number to guess.\n",
    "        :param debug_mode: Whether to print debug information.\n",
    "\n",
    "        :return: Boolean value of if we're done.\n",
    "        \"\"\"\n",
    "        encoded_word = list(WORDS[word_num])\n",
    "        if debug_mode:\n",
    "            print(encodeToStr(encoded_word))\n",
    "        obs, _, done, _ = self.env.step(encoded_word)\n",
    "\n",
    "        self.tokenize_word(WORDS[word_num], obs['board'][6-self.num_turns_left])\n",
    "        self.num_turns_left -= 1\n",
    "        return done\n",
    "\n"
   ]
  },
  {
   "cell_type": "markdown",
   "metadata": {},
   "source": [
    "## Define the Model.\n",
    "\n",
    "### Inputs\n",
    "- Alphabet State [26x1]\n",
    "- Board State [6x5] Grid\n",
    "\n",
    "### Outputs\n",
    "- So the model will output a one-dimensional tensor with values\n",
    "corresponding to how likely it is that the word is the best move. We will\n",
    "take the argmax of those possibilities and make our move with it."
   ]
  },
  {
   "cell_type": "code",
   "execution_count": 72,
   "metadata": {},
   "outputs": [],
   "source": [
    "# Define the Model Here\n",
    "class WordleModel(torch.nn.Module):\n",
    "    def __init__(self):\n",
    "        super(WordleModel, self).__init__()\n",
    "        \n",
    "        # Input Layers\n",
    "        self.alphabet_state = torch.nn.Linear(26, 26)\n",
    "        self.current_word_state = torch.nn.Linear(5, 5)\n",
    "        self.num_turns_left_state = torch.nn.Linear(1, 1)\n",
    "\n",
    "        # Hidden Layers\n",
    "        self.hidden_layer_stack = torch.nn.Sequential(\n",
    "            torch.nn.Linear(32, 32),\n",
    "            torch.nn.ReLU(),\n",
    "            torch.nn.Linear(32, 32),\n",
    "            torch.nn.ReLU(),\n",
    "            torch.nn.Linear(32, len(WORDS)),\n",
    "        )\n",
    "\n",
    "        # Output Softmax Layer\n",
    "        self.output = torch.nn.Softmax(dim=0)\n",
    "    \n",
    "    def forward(self, x):\n",
    "        # Input Layers\n",
    "        x_alphabet = self.alphabet_state(x[0])\n",
    "        x_current_word = self.current_word_state(x[1])\n",
    "        x_num_turns_left = self.num_turns_left_state(x[2])\n",
    "\n",
    "        # Hidden Layers\n",
    "        x = torch.cat((x_alphabet, x_current_word, x_num_turns_left), dim=0)\n",
    "        x = self.hidden_layer_stack(x)\n",
    "\n",
    "        # Output Softmax Layer\n",
    "        x = self.output(x)\n",
    "\n",
    "        return x"
   ]
  },
  {
   "cell_type": "markdown",
   "metadata": {},
   "source": [
    "## Sanity Check Example with a Sample Game"
   ]
  },
  {
   "cell_type": "code",
   "execution_count": 80,
   "metadata": {},
   "outputs": [],
   "source": [
    "from torch.optim import Adam\n",
    " \n",
    "# Define the loss function with Classification Cross-Entropy loss and an optimizer with Adam optimizer\n",
    "loss_fn = torch.nn.CrossEntropyLoss()\n",
    "optimizer = Adam(model.parameters(), lr=0.001, weight_decay=0.0001)"
   ]
  },
  {
   "cell_type": "code",
   "execution_count": 166,
   "metadata": {},
   "outputs": [],
   "source": [
    "from tqdm import tqdm\n",
    "def train_model(model, epochs):\n",
    "    # First, we create an instance of the game.\n",
    "    game = WordleGame()\n",
    "    train_losses = []\n",
    "    test_losses = []\n",
    "\n",
    "    for i in tqdm(range(epochs)):\n",
    "        # Reset the game for the new game.\n",
    "        game.reset_game()\n",
    "        # Play until the game ends.\n",
    "        done = False\n",
    "\n",
    "        labels = [0 if i == game.env.hidden_word else 1 for i in range(len(WORDS))]\n",
    "\n",
    "        # Training Step\n",
    "        while not done:\n",
    "            # Get the current game state.\n",
    "            alphabet, tokenization, turns_left = game.get_current_state()\n",
    "\n",
    "            # Convert to tensors\n",
    "            alphabet_tensor = torch.tensor(alphabet, dtype=torch.float)\n",
    "            tokenization_tensor = torch.tensor(tokenization, dtype=torch.float)\n",
    "            turns_left_tensor = torch.tensor([turns_left], dtype=torch.float)\n",
    "\n",
    "            # Get the model's prediction for the current game state.\n",
    "            output = model([alphabet_tensor, tokenization_tensor, turns_left_tensor])\n",
    "\n",
    "            # Get the word number with the highest probability.\n",
    "            word_num = torch.argmax(output).item()\n",
    "\n",
    "            # Make the guess.\n",
    "            done = game.make_guess(word_num)\n",
    "\n",
    "            # Get the loss for the step\n",
    "            loss = loss_fn(output, torch.tensor(labels, dtype=torch.float))\n",
    "\n",
    "            optimizer.zero_grad()\n",
    "            loss.backward()\n",
    "            optimizer.step()\n",
    "            train_losses.append([i, loss.item()])\n",
    "\n",
    "        # Test Eval Step\n",
    "        game.reset_game()\n",
    "        done = False\n",
    "        while not done:\n",
    "            alphabet, tokenization, turns_left = game.get_current_state()\n",
    "\n",
    "            # Convert to tensors\n",
    "            alphabet_tensor = torch.tensor(alphabet, dtype=torch.float)\n",
    "            tokenization_tensor = torch.tensor(tokenization, dtype=torch.float)\n",
    "            turns_left_tensor = torch.tensor([turns_left], dtype=torch.float)\n",
    "\n",
    "            with torch.no_grad():\n",
    "                # Get the model's prediction for the current game state.\n",
    "                output = model([alphabet_tensor, tokenization_tensor, turns_left_tensor])\n",
    "\n",
    "                # Get the word number with the highest probability.\n",
    "                word_num = torch.argmax(output).item()\n",
    "\n",
    "                # Make the guess.\n",
    "                done = game.make_guess(word_num)\n",
    "\n",
    "                # Get the loss for the step\n",
    "                loss = loss_fn(output, torch.tensor(labels, dtype=torch.float))\n",
    "\n",
    "                test_losses.append([i, loss.item()])\n",
    "    \n",
    "    return train_losses, test_losses"
   ]
  },
  {
   "cell_type": "code",
   "execution_count": 167,
   "metadata": {},
   "outputs": [
    {
     "name": "stderr",
     "output_type": "stream",
     "text": [
      "100%|██████████| 10000/10000 [03:44<00:00, 44.60it/s]\n"
     ]
    }
   ],
   "source": [
    "model = WordleModel()\n",
    "sample_game = WordleGame()\n",
    "\n",
    "train_losses, test_losses = train_model(model, 10000)"
   ]
  },
  {
   "cell_type": "code",
   "execution_count": 168,
   "metadata": {},
   "outputs": [
    {
     "data": {
      "image/png": "[encoded data removed]",
      "text/plain": [
       "<Figure size 640x480 with 1 Axes>"
      ]
     },
     "metadata": {},
     "output_type": "display_data"
    }
   ],
   "source": [
    "import pandas as pd\n",
    "import seaborn as sns\n",
    "import matplotlib.pyplot as plt\n",
    "\n",
    "train_losses = pd.DataFrame(train_losses, columns=[\"Epoch\", \"Loss\"])\n",
    "test_losses = pd.DataFrame(test_losses, columns=[\"Epoch\", \"Loss\"])\n",
    "\n",
    "sns.lineplot(data=train_losses, x=\"Epoch\", y=\"Loss\")\n",
    "plt.show()\n"
   ]
  },
  {
   "cell_type": "markdown",
   "metadata": {},
   "source": []
  }
 ],
 "metadata": {
  "kernelspec": {
   "display_name": "Python 3.9.13 ('watt_wordle_env')",
   "language": "python",
   "name": "python3"
  },
  "language_info": {
   "codemirror_mode": {
    "name": "ipython",
    "version": 3
   },
   "file_extension": ".py",
   "mimetype": "text/x-python",
   "name": "python",
   "nbconvert_exporter": "python",
   "pygments_lexer": "ipython3",
   "version": "3.9.13"
  },
  "orig_nbformat": 4,
  "vscode": {
   "interpreter": {
    "hash": "4fb703dffe9f9b76b9cf940ac24480bc114f740a240764f76a066ac56bd11c8d"
   }
  }
 },
 "nbformat": 4,
 "nbformat_minor": 2
}
